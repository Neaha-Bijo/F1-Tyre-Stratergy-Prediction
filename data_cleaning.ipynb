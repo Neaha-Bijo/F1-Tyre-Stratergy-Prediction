{
 "cells": [
  {
   "cell_type": "code",
   "execution_count": 55,
   "metadata": {},
   "outputs": [],
   "source": [
    "import pandas as pd"
   ]
  },
  {
   "cell_type": "markdown",
   "metadata": {},
   "source": [
    "Join circuits and race_circuits to get turns and track length in one file"
   ]
  },
  {
   "cell_type": "code",
   "execution_count": 56,
   "metadata": {},
   "outputs": [],
   "source": [
    "circuits = \"./raw_data/circuits.csv\"\n",
    "race_cicuits = \"./in_progress_data/race_circuits.csv\""
   ]
  },
  {
   "cell_type": "code",
   "execution_count": 57,
   "metadata": {},
   "outputs": [
    {
     "data": {
      "text/plain": [
       "Index(['circuitid', 'circuitref', 'name', 'location', 'country', 'lat', 'lng',\n",
       "       'alt', 'url'],\n",
       "      dtype='object')"
      ]
     },
     "execution_count": 57,
     "metadata": {},
     "output_type": "execute_result"
    }
   ],
   "source": [
    "circuits_df = pd.read_csv(circuits)\n",
    "circuits_df.columns = circuits_df.columns.str.lower()\n",
    "circuits_df.columns\n"
   ]
  },
  {
   "cell_type": "code",
   "execution_count": 58,
   "metadata": {},
   "outputs": [
    {
     "data": {
      "text/plain": [
       "Index(['circuit', 'map', 'type', 'direction', 'location', 'country',\n",
       "       'last length used', 'turns', 'grands prix', 'season(s)',\n",
       "       'grands prix held'],\n",
       "      dtype='object')"
      ]
     },
     "execution_count": 58,
     "metadata": {},
     "output_type": "execute_result"
    }
   ],
   "source": [
    "race_circuits_df = pd.read_csv(race_cicuits)\n",
    "race_circuits_df.columns = race_circuits_df.columns.str.lower()\n",
    "race_circuits_df.columns"
   ]
  },
  {
   "cell_type": "code",
   "execution_count": 59,
   "metadata": {},
   "outputs": [],
   "source": [
    "replace = {\"United States\": \"USA\", \"United Arab Emirates\": \"UAE\", \"United Kingdom\":\"UK\"}\n",
    "race_circuits_df['country'] = race_circuits_df['country'].replace(replace)"
   ]
  },
  {
   "cell_type": "code",
   "execution_count": 60,
   "metadata": {},
   "outputs": [],
   "source": [
    "final_circuits_df = pd.merge(circuits_df, race_circuits_df[['location', 'country','last length used', 'turns']], on=['location', 'country'], how='left')"
   ]
  },
  {
   "cell_type": "code",
   "execution_count": 61,
   "metadata": {},
   "outputs": [
    {
     "data": {
      "text/plain": [
       "<bound method NDFrame.head of     circuitid   circuitref                                  name  \\\n",
       "0           1  albert_park        Albert Park Grand Prix Circuit   \n",
       "1           2       sepang          Sepang International Circuit   \n",
       "2           3      bahrain         Bahrain International Circuit   \n",
       "3           4    catalunya        Circuit de Barcelona-Catalunya   \n",
       "4           5     istanbul                         Istanbul Park   \n",
       "..        ...          ...                                   ...   \n",
       "74         75     portimao    Autódromo Internacional do Algarve   \n",
       "75         76      mugello  Autodromo Internazionale del Mugello   \n",
       "76         77       jeddah               Jeddah Corniche Circuit   \n",
       "77         78       losail          Losail International Circuit   \n",
       "78         79        miami         Miami International Autodrome   \n",
       "\n",
       "        location       country       lat        lng  alt  \\\n",
       "0      Melbourne     Australia -37.84970  144.96800   10   \n",
       "1   Kuala Lumpur      Malaysia   2.76083  101.73800   18   \n",
       "2         Sakhir       Bahrain  26.03250   50.51060    7   \n",
       "3       Montmeló         Spain  41.57000    2.26111  109   \n",
       "4       Istanbul        Turkey  40.95170   29.40500  130   \n",
       "..           ...           ...       ...        ...  ...   \n",
       "74      Portimão      Portugal  37.22700   -8.62670  108   \n",
       "75       Mugello         Italy  43.99750   11.37190  255   \n",
       "76        Jeddah  Saudi Arabia  21.63190   39.10440   15   \n",
       "77     Al Daayen         Qatar  25.49000   51.45420   \\N   \n",
       "78         Miami           USA  25.95810  -80.23890   \\N   \n",
       "\n",
       "                                                  url  last length used turns  \n",
       "0   http://en.wikipedia.org/wiki/Melbourne_Grand_P...             5.278    16  \n",
       "1   http://en.wikipedia.org/wiki/Sepang_Internatio...               NaN   NaN  \n",
       "2   http://en.wikipedia.org/wiki/Bahrain_Internati...             5.412    15  \n",
       "3   http://en.wikipedia.org/wiki/Circuit_de_Barcel...             4.657    14  \n",
       "4          http://en.wikipedia.org/wiki/Istanbul_Park             5.338    14  \n",
       "..                                                ...               ...   ...  \n",
       "74  http://en.wikipedia.org/wiki/Algarve_Internati...             4.653    15  \n",
       "75       http://en.wikipedia.org/wiki/Mugello_Circuit               NaN   NaN  \n",
       "76  http://en.wikipedia.org/wiki/Jeddah_Street_Cir...             6.174    27  \n",
       "77  http://en.wikipedia.org/wiki/Losail_Internatio...               NaN   NaN  \n",
       "78  http://en.wikipedia.org/wiki/Miami_Internation...               NaN   NaN  \n",
       "\n",
       "[79 rows x 11 columns]>"
      ]
     },
     "execution_count": 61,
     "metadata": {},
     "output_type": "execute_result"
    }
   ],
   "source": [
    "final_circuits_df['last length used'] = final_circuits_df['last length used'].str.replace('km', '')\n",
    "final_circuits_df['last length used'] = pd.to_numeric(final_circuits_df['last length used'])\n",
    "final_circuits_df.head"
   ]
  },
  {
   "cell_type": "code",
   "execution_count": 62,
   "metadata": {},
   "outputs": [],
   "source": [
    "#final_circuits_df.to_csv(\"./in_progress_data/final_circuits.csv\", index=False)"
   ]
  },
  {
   "cell_type": "markdown",
   "metadata": {},
   "source": [
    "The above is commented out so that that file is no longer touched here after."
   ]
  },
  {
   "cell_type": "markdown",
   "metadata": {},
   "source": [
    "Filter `races.csv` to only have races from 2018"
   ]
  },
  {
   "cell_type": "code",
   "execution_count": 63,
   "metadata": {},
   "outputs": [
    {
     "name": "stdout",
     "output_type": "stream",
     "text": [
      "[ 989  990  991  992  993  994  995  996  997  998  999 1000 1001 1002\n",
      " 1003 1004 1005 1006 1007 1008 1009 1010 1011 1012 1013 1014 1015 1016\n",
      " 1017 1018 1019 1020 1021 1022 1023 1024 1025 1026 1027 1028 1029 1030\n",
      " 1031 1032 1033 1034 1035 1036 1037 1038 1039 1040 1041 1042 1043 1044\n",
      " 1045 1046 1047 1053 1074 1052 1051 1054 1055 1056 1057 1058 1059 1060\n",
      " 1061 1062 1063 1064 1065 1066 1067 1069 1070 1071 1072 1073 1075 1076\n",
      " 1077 1078 1079 1080 1081 1082 1083 1084 1085 1086 1087 1088 1089 1091\n",
      " 1092 1093 1094 1095 1096 1098 1099 1100 1101 1102 1104 1105 1106 1107\n",
      " 1108 1109 1110 1111 1112 1113 1114 1115 1116 1117 1118 1119 1120]\n"
     ]
    }
   ],
   "source": [
    "races = \"./raw_data/races.csv\"\n",
    "races_df = pd.read_csv(races)\n",
    "races_df.columns = races_df.columns.str.lower()\n",
    "\n",
    "races_df = races_df.drop(columns=['fp1_date', 'fp1_time','fp2_date', 'fp2_time', 'fp3_date', 'fp3_time', 'quali_date', 'quali_time', 'sprint_date', 'sprint_time',])\n",
    "races_df = races_df[races_df['year'] >= 2018]\n",
    "raceid = races_df['raceid'].unique()\n",
    "print(raceid)\n",
    "\n",
    "races_df.to_csv(\"./in_progress_data/final_races.csv\", index=False)"
   ]
  },
  {
   "cell_type": "markdown",
   "metadata": {},
   "source": [
    "Filter `lap_times.csv` to only have the required lap_times (i.e lap times from races fromm 2018 to 2023.)"
   ]
  },
  {
   "cell_type": "code",
   "execution_count": 64,
   "metadata": {},
   "outputs": [
    {
     "name": "stdout",
     "output_type": "stream",
     "text": [
      "[ 989  990  991  992  993  994  995  996  997  998  999 1000 1001 1002\n",
      " 1003 1004 1005 1006 1007 1008 1009 1010 1011 1012 1013 1014 1015 1016\n",
      " 1017 1018 1019 1020 1021 1022 1023 1024 1025 1026 1027 1028 1029 1030\n",
      " 1031 1032 1033 1034 1035 1036 1037 1038 1039 1040 1041 1042 1043 1044\n",
      " 1045 1046 1047 1052 1053 1054 1055 1056 1057 1059 1058 1060 1061 1062\n",
      " 1063 1064 1065 1066 1067 1069 1070 1071 1051 1072 1073 1074 1075 1076\n",
      " 1077 1078 1079 1080 1081 1082 1083 1084 1085 1086 1087 1088 1089 1091\n",
      " 1092 1093 1094 1095 1096 1098 1099 1100 1101 1102 1104 1105 1106 1107\n",
      " 1108 1109 1110]\n"
     ]
    }
   ],
   "source": [
    "lap_times = \"./raw_data/lap_times.csv\"\n",
    "lap_times_df = pd.read_csv(lap_times)\n",
    "lap_times_df.columns = lap_times_df.columns.str.lower()\n",
    "\n",
    "lap_times_df = lap_times_df[lap_times_df['raceid'].isin(raceid)]\n",
    "laptime_raceid = lap_times_df['raceid'].unique()\n",
    "print(laptime_raceid)\n",
    "\n",
    "lap_times_df = lap_times_df.rename(columns={'time': 'lap_time'})\n",
    "lap_times_df.columns\n",
    "\n",
    "lap_times_df.to_csv(\"./in_progress_data/final_laptimes.csv\", index=False)"
   ]
  },
  {
   "cell_type": "markdown",
   "metadata": {},
   "source": [
    "Change the name of the column in `drivers.csv` to avoid duplicates when merging to form final table"
   ]
  },
  {
   "cell_type": "code",
   "execution_count": 65,
   "metadata": {},
   "outputs": [],
   "source": [
    "drivers = \"./raw_data/drivers.csv\"\n",
    "drivers_df = pd.read_csv(drivers)\n",
    "drivers_df.columns = drivers_df.columns.str.lower()\n",
    "\n",
    "drivers_df = drivers_df.rename(columns={'url': 'driver_url'})\n",
    "drivers_df.columns\n",
    "\n",
    "drivers_df.to_csv(\"./in_progress_data/final_drivers.csv\", index=False)"
   ]
  },
  {
   "cell_type": "markdown",
   "metadata": {},
   "source": [
    "Filter the `pit_stops.csv` to only have the required pit_stops (i.e pit stops from races fromm 2018 to 2023.) and clean up the dataset"
   ]
  },
  {
   "cell_type": "code",
   "execution_count": 66,
   "metadata": {},
   "outputs": [],
   "source": [
    "pit_stops = \"./raw_data/pit_stops.csv\"\n",
    "pit_stops_df = pd.read_csv(pit_stops)\n",
    "pit_stops_df.columns = pit_stops_df.columns.str.lower()\n",
    "\n",
    "pit_stops_df = pit_stops_df[pit_stops_df['raceid'].isin(raceid)]\n",
    "\n",
    "pit_stops_df = pit_stops_df.drop(columns=[\"time\"])\n",
    "pit_stops_df = pit_stops_df.rename(columns={'milliseconds': 'pitstop_milliseconds','lap': 'pit_lap'})\n",
    "pit_stops_df.columns\n",
    "\n",
    "pit_stops_df.to_csv(\"./in_progress_data/final_pitstops.csv\", index=False)"
   ]
  },
  {
   "cell_type": "markdown",
   "metadata": {},
   "source": [
    "Changing the columns in `weather.csv` to match with other datasets as keys."
   ]
  },
  {
   "cell_type": "code",
   "execution_count": null,
   "metadata": {},
   "outputs": [],
   "source": [
    "weather_df = pd.read_csv('./in_progress_data/weather.csv')\n",
    "weather_df.columns = weather_df.columns.str.lower()\n",
    "\n",
    "weather_df = weather_df.drop(columns=['time'])\n",
    "weather_df = weather_df.rename(columns={'round number': 'round'})\n",
    "weather_df.columns\n",
    "\n",
    "weather_df.to_csv('./in_progress_data/weather.csv', index=False)"
   ]
  },
  {
   "cell_type": "markdown",
   "metadata": {},
   "source": [
    "Converting all columns to lower case"
   ]
  },
  {
   "cell_type": "code",
   "execution_count": 68,
   "metadata": {},
   "outputs": [],
   "source": [
    "tire_df = pd.read_csv('./in_progress_data/tire.csv')\n",
    "tire_df.columns = tire_df.columns.str.lower()\n",
    "tire_df.to_csv('./in_progress_data/tire.csv', index=False)"
   ]
  },
  {
   "cell_type": "markdown",
   "metadata": {},
   "source": [
    "Creating the final dataset to be used in the model selection and training"
   ]
  },
  {
   "cell_type": "code",
   "execution_count": 69,
   "metadata": {},
   "outputs": [],
   "source": [
    "races_df = pd.read_csv('./in_progress_data/final_races.csv')\n",
    "tire_df = pd.read_csv('./in_progress_data/tire.csv')\n",
    "weather_df = pd.read_csv('./in_progress_data/weather.csv')\n",
    "circuits_df = pd.read_csv('./in_progress_data/final_circuits.csv')\n",
    "drivers_df = pd.read_csv('./in_progress_data/final_drivers.csv')\n",
    "lap_times_df = pd.read_csv('./in_progress_data/final_laptimes.csv')\n",
    "pit_stop_df = pd.read_csv('./in_progress_data/final_pitstops.csv')"
   ]
  },
  {
   "cell_type": "markdown",
   "metadata": {},
   "source": [
    "Dropping the unwanted columns"
   ]
  },
  {
   "cell_type": "code",
   "execution_count": 70,
   "metadata": {},
   "outputs": [],
   "source": [
    "races_df = races_df.drop(columns=['name', 'date', 'time', 'url'])\n",
    "circuits_df = circuits_df.drop(columns=['circuitref', 'url'])\n",
    "drivers_df = drivers_df.drop(columns=['driverref','number', 'forename', 'surname', 'dob', 'nationality', 'driver_url'])\n",
    "lap_times_df = lap_times_df.drop(columns=['lap_time', 'position'])\n",
    "pit_stop_df = pit_stop_df.drop(columns=['stop','duration', 'pitstop_milliseconds'])\n",
    "pit_stop_df = pit_stop_df.rename(columns={'pit_lap': 'lap'})"
   ]
  },
  {
   "cell_type": "code",
   "execution_count": 71,
   "metadata": {},
   "outputs": [],
   "source": [
    "merged_df = pd.merge(lap_times_df, pit_stop_df, on=['raceid', 'driverid', 'lap'], how='left', indicator=True)\n",
    "# Filter out rows where there is a match between pitstop and laptime data\n",
    "filtered_df = merged_df[merged_df['_merge'] == 'left_only'].drop('_merge', axis=1)"
   ]
  },
  {
   "cell_type": "code",
   "execution_count": 72,
   "metadata": {},
   "outputs": [],
   "source": [
    "# Convert 'rainfall' column to numeric (True=1, False=0)\n",
    "weather_df['rainfall'] = weather_df['rainfall'].astype(int)\n",
    "\n",
    "# Group by 'year' and 'round' and calculate the mean for each group\n",
    "average_weather_df = weather_df.groupby(['year', 'round']).mean().reset_index()"
   ]
  },
  {
   "cell_type": "code",
   "execution_count": 73,
   "metadata": {},
   "outputs": [],
   "source": [
    "data = pd.merge(races_df, tire_df, on=['year', 'round'])\n",
    "data = pd.merge(data, average_weather_df, on=['year', 'round'])\n",
    "data = pd.merge(data, drivers_df, on=['code'])\n",
    "data = pd.merge(data, lap_times_df, on=['raceid', 'driverid'])\n",
    "data.reset_index(drop=True, inplace=True)"
   ]
  },
  {
   "cell_type": "code",
   "execution_count": 74,
   "metadata": {},
   "outputs": [],
   "source": [
    "data['avg_lap_time'] = data.groupby(['raceid', 'driverid', 'stint'])['milliseconds'].transform('mean')\n",
    "data = data.drop(columns=['milliseconds','lap', 'code'])\n",
    "data = data.drop_duplicates()"
   ]
  },
  {
   "cell_type": "code",
   "execution_count": 75,
   "metadata": {},
   "outputs": [
    {
     "data": {
      "text/plain": [
       "Index(['raceid', 'year', 'round', 'circuitid', 'stint', 'compound',\n",
       "       'stint start lap', 'stint end lap', 'stint length', 'airtemp',\n",
       "       'humidity', 'pressure', 'rainfall', 'tracktemp', 'winddirection',\n",
       "       'windspeed', 'driverid', 'avg_lap_time'],\n",
       "      dtype='object')"
      ]
     },
     "execution_count": 75,
     "metadata": {},
     "output_type": "execute_result"
    }
   ],
   "source": [
    "data.columns"
   ]
  },
  {
   "cell_type": "code",
   "execution_count": 76,
   "metadata": {},
   "outputs": [],
   "source": [
    "data.to_csv('./final_data/final_data.csv', index=False)"
   ]
  }
 ],
 "metadata": {
  "kernelspec": {
   "display_name": "tyre_pred",
   "language": "python",
   "name": "python3"
  },
  "language_info": {
   "codemirror_mode": {
    "name": "ipython",
    "version": 3
   },
   "file_extension": ".py",
   "mimetype": "text/x-python",
   "name": "python",
   "nbconvert_exporter": "python",
   "pygments_lexer": "ipython3",
   "version": "3.12.3"
  }
 },
 "nbformat": 4,
 "nbformat_minor": 2
}
